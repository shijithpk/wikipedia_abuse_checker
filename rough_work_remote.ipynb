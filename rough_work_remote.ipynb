{
 "cells": [
  {
   "cell_type": "code",
   "execution_count": 3,
   "metadata": {},
   "outputs": [
    {
     "data": {
      "text/plain": [
       "4"
      ]
     },
     "execution_count": 3,
     "metadata": {},
     "output_type": "execute_result"
    }
   ],
   "source": [
    "2+2"
   ]
  },
  {
   "cell_type": "code",
   "execution_count": 2,
   "metadata": {},
   "outputs": [
    {
     "name": "stdout",
     "output_type": "stream",
     "text": [
      "{'continue': {'rvcontinue': '20210624074516|1030163933', 'continue': '||'}, 'query': {'redirects': [{'from': 'Yaduvanshi', 'to': 'Yadu (legendary king)'}], 'pages': {'66253797': {'pageid': 66253797, 'ns': 0, 'title': 'Yadu (legendary king)', 'revisions': [{'revid': 1053088771, 'parentid': 1053067097, 'user': 'Tbhotch', 'userid': 10808929, 'timestamp': '2021-11-01T20:48:55Z', 'size': 4998, 'tags': ['twinkle', 'mw-add-media', 'mw-remove-media']}, {'revid': 1053067097, 'parentid': 1050395700, 'minor': '', 'user': 'Yamaguchi先生', 'userid': 503067, 'timestamp': '2021-11-01T18:10:42Z', 'size': 4980, 'tags': []}, {'revid': 1050395700, 'parentid': 1050392175, 'minor': '', 'user': 'AnomieBOT', 'userid': 7611264, 'timestamp': '2021-10-17T15:29:21Z', 'size': 4980, 'tags': []}, {'revid': 1050392175, 'parentid': 1047651756, 'user': 'Sajaypal007', 'userid': 36796273, 'timestamp': '2021-10-17T15:09:10Z', 'size': 4962, 'tags': ['mobile edit', 'mobile web edit']}, {'revid': 1047651756, 'parentid': 1047650998, 'user': 'Chariotrider555', 'userid': 40046375, 'timestamp': '2021-10-01T21:57:29Z', 'size': 4938, 'tags': ['mw-undo', 'mw-removed-redirect', 'mw-add-media']}, {'revid': 1047650998, 'parentid': 1047650155, 'user': 'विक्रम सिंह बनाफर', 'userid': 41986574, 'timestamp': '2021-10-01T21:52:11Z', 'size': 24, 'tags': ['mobile edit', 'mw-new-redirect', 'mobile app edit', 'android app edit', 'mw-reverted']}, {'revid': 1047650155, 'parentid': 1047650087, 'user': 'विक्रम सिंह बनाफर', 'userid': 41986574, 'timestamp': '2021-10-01T21:46:32Z', 'size': 0, 'tags': ['mobile edit', 'mw-blank', 'mobile app edit', 'android app edit', 'mw-reverted']}, {'revid': 1047650087, 'parentid': 1047650029, 'user': 'विक्रम सिंह बनाफर', 'userid': 41986574, 'timestamp': '2021-10-01T21:46:04Z', 'size': 115, 'tags': ['mobile edit', 'mobile app edit', 'android app edit', 'mw-reverted']}, {'revid': 1047650029, 'parentid': 1047649946, 'user': 'विक्रम सिंह बनाफर', 'userid': 41986574, 'timestamp': '2021-10-01T21:45:33Z', 'size': 159, 'tags': ['mobile edit', 'mw-replace', 'mobile app edit', 'android app edit', 'mw-reverted']}, {'revid': 1047649946, 'parentid': 1045199347, 'user': 'विक्रम सिंह बनाफर', 'userid': 41986574, 'timestamp': '2021-10-01T21:44:51Z', 'size': 2889, 'tags': ['mobile edit', 'mobile app edit', 'android app edit', 'mw-reverted', 'mw-remove-media']}, {'revid': 1045199347, 'parentid': 1045189830, 'minor': '', 'user': 'DaxServer', 'userid': 22970011, 'timestamp': '2021-09-19T10:38:43Z', 'size': 4938, 'tags': ['mw-rollback', 'mw-reverted']}, {'revid': 1045189830, 'parentid': 1042529051, 'minor': '', 'user': 'Jaddu007', 'userid': 42321950, 'timestamp': '2021-09-19T09:29:59Z', 'size': 3148, 'tags': ['mobile edit', 'mobile web edit', 'visualeditor', 'mw-reverted']}, {'revid': 1042529051, 'parentid': 1042394000, 'user': 'Chariotrider555', 'userid': 40046375, 'timestamp': '2021-09-05T12:58:39Z', 'size': 4938, 'tags': ['mw-undo', 'mobile edit', 'mobile web edit', 'advanced mobile edit', 'mw-add-media']}, {'revid': 1042394000, 'parentid': 1038452514, 'user': \"Yaduvanshi ahir's\", 'userid': 42222481, 'timestamp': '2021-09-04T19:27:51Z', 'size': 5281, 'tags': ['mobile edit', 'mobile web edit', 'visualeditor', 'mw-reverted', 'mw-remove-media']}, {'revid': 1038452514, 'parentid': 1038451723, 'minor': '', 'user': 'MusikBot II', 'userid': 29539620, 'timestamp': '2021-08-12T16:50:26Z', 'size': 4938, 'tags': ['mw-add-media']}, {'revid': 1038451723, 'parentid': 1038451685, 'minor': '', 'user': 'Yamaguchi先生', 'userid': 503067, 'timestamp': '2021-08-12T16:44:11Z', 'size': 4921, 'tags': []}, {'revid': 1038451685, 'parentid': 1038398267, 'minor': '', 'user': 'Yamaguchi先生', 'userid': 503067, 'timestamp': '2021-08-12T16:43:55Z', 'size': 4921, 'tags': ['mw-rollback']}, {'revid': 1038398267, 'parentid': 1038398001, 'user': '2409:4053:28B:F416:0:0:2F1:58B1', 'anon': '', 'userid': 0, 'timestamp': '2021-08-12T09:02:30Z', 'size': 3978, 'tags': ['mobile edit', 'mobile web edit', 'visualeditor', 'mw-reverted']}, {'revid': 1038398001, 'parentid': 1038387194, 'user': '2409:4053:28B:F416:0:0:2F1:58B1', 'anon': '', 'userid': 0, 'timestamp': '2021-08-12T09:00:03Z', 'size': 3957, 'tags': ['mobile edit', 'mobile web edit', 'visualeditor', 'references removed', 'mw-reverted']}, {'revid': 1038387194, 'parentid': 1038387104, 'minor': '', 'user': 'Paper9oll', 'userid': 19485939, 'timestamp': '2021-08-12T07:16:54Z', 'size': 4921, 'tags': ['mw-rollback']}, {'revid': 1038387104, 'parentid': 1038386315, 'user': '2409:4053:293:C63D:0:0:1F21:90B1', 'anon': '', 'userid': 0, 'timestamp': '2021-08-12T07:16:01Z', 'size': 3949, 'tags': ['mobile edit', 'mobile web edit', 'references removed', 'mw-reverted']}, {'revid': 1038386315, 'parentid': 1038297145, 'user': '2409:4053:293:C63D:0:0:1F21:90B1', 'anon': '', 'userid': 0, 'timestamp': '2021-08-12T07:11:56Z', 'size': 4915, 'tags': ['mobile edit', 'mobile web edit', 'mw-reverted']}, {'revid': 1038297145, 'parentid': 1038218574, 'user': 'Yamaguchi先生', 'userid': 503067, 'timestamp': '2021-08-11T18:10:27Z', 'size': 4921, 'tags': ['mw-undo', 'twinkle']}, {'revid': 1038218574, 'parentid': 1038218329, 'user': \"Yaduvanshi ahir's\", 'userid': 42222481, 'timestamp': '2021-08-11T06:48:09Z', 'size': 3963, 'tags': ['mobile edit', 'mobile app edit', 'android app edit', 'mw-reverted']}, {'revid': 1038218329, 'parentid': 1038181133, 'user': \"Yaduvanshi ahir's\", 'userid': 42222481, 'timestamp': '2021-08-11T06:45:39Z', 'size': 3969, 'tags': ['mobile edit', 'mobile app edit', 'android app edit', 'references removed', 'mw-reverted']}, {'revid': 1038181133, 'parentid': 1038127689, 'user': 'Atulrampur2021', 'userid': 41956217, 'timestamp': '2021-08-11T00:40:34Z', 'size': 4971, 'tags': ['mobile edit', 'mobile web edit', 'mw-reverted']}, {'revid': 1038127689, 'parentid': 1038102084, 'user': 'Yamaguchi先生', 'userid': 503067, 'timestamp': '2021-08-10T17:47:20Z', 'size': 4921, 'tags': ['mw-undo', 'twinkle', 'mw-reverted']}, {'revid': 1038102084, 'parentid': 1038101995, 'user': 'Atulrampur2021', 'userid': 41956217, 'timestamp': '2021-08-10T14:47:04Z', 'size': 4992, 'tags': ['mobile edit', 'mobile web edit', 'mw-reverted']}, {'revid': 1038101995, 'parentid': 1038098750, 'user': 'Atulrampur2021', 'userid': 41956217, 'timestamp': '2021-08-10T14:46:12Z', 'size': 4980, 'tags': ['mobile edit', 'mobile web edit', 'mw-reverted']}, {'revid': 1038098750, 'parentid': 1038093151, 'minor': '', 'user': 'SpacemanSpiff', 'userid': 9661331, 'timestamp': '2021-08-10T14:18:42Z', 'size': 4921, 'tags': ['mw-rollback', 'mw-reverted']}, {'revid': 1038093151, 'parentid': 1038092790, 'user': 'Atulrampur2021', 'userid': 41956217, 'timestamp': '2021-08-10T13:35:08Z', 'size': 4990, 'tags': ['mobile edit', 'mobile web edit', 'mw-reverted']}, {'revid': 1038092790, 'parentid': 1038092626, 'user': 'Atulrampur2021', 'userid': 41956217, 'timestamp': '2021-08-10T13:32:26Z', 'size': 4998, 'tags': ['mobile edit', 'mobile web edit', 'mw-reverted']}, {'revid': 1038092626, 'parentid': 1038092539, 'user': 'Atulrampur2021', 'userid': 41956217, 'timestamp': '2021-08-10T13:31:06Z', 'size': 4990, 'tags': ['mobile edit', 'mobile web edit', 'mw-reverted']}, {'revid': 1038092539, 'parentid': 1038092399, 'user': 'Atulrampur2021', 'userid': 41956217, 'timestamp': '2021-08-10T13:30:22Z', 'size': 4990, 'tags': ['mobile edit', 'mobile web edit', 'mw-reverted']}, {'revid': 1038092399, 'parentid': 1037706674, 'user': 'Atulrampur2021', 'userid': 41956217, 'timestamp': '2021-08-10T13:29:21Z', 'size': 4986, 'tags': ['mobile edit', 'mobile web edit', 'mw-reverted']}, {'revid': 1037706674, 'parentid': 1037706653, 'minor': '', 'user': 'Rdp060707', 'userid': 39526041, 'timestamp': '2021-08-08T06:46:46Z', 'size': 4921, 'tags': ['mw-rollback', 'OAuth CID: 1805']}, {'revid': 1037706653, 'parentid': 1037706469, 'user': '2409:4053:680:88D9:0:0:1B1C:58A1', 'anon': '', 'userid': 0, 'timestamp': '2021-08-08T06:46:36Z', 'size': 3938, 'tags': ['mobile edit', 'mobile web edit', 'visualeditor', 'references removed', 'mw-manual-revert', 'mw-reverted']}, {'revid': 1037706469, 'parentid': 1037706453, 'minor': '', 'user': 'Rdp060707', 'userid': 39526041, 'timestamp': '2021-08-08T06:44:52Z', 'size': 4921, 'tags': ['mw-rollback', 'OAuth CID: 1805', 'mw-reverted']}, {'revid': 1037706453, 'parentid': 1036571982, 'user': '2409:4053:680:88D9:0:0:1B1C:58A1', 'anon': '', 'userid': 0, 'timestamp': '2021-08-08T06:44:43Z', 'size': 3938, 'tags': ['mobile edit', 'mobile web edit', 'visualeditor', 'references removed', 'mw-reverted']}, {'revid': 1036571982, 'parentid': 1036066479, 'user': '2409:4053:595:79BE:0:0:2A06:48B0', 'anon': '', 'userid': 0, 'timestamp': '2021-08-01T11:35:37Z', 'size': 4921, 'tags': ['mobile edit', 'mobile web edit', 'references removed']}, {'revid': 1036066479, 'parentid': 1036065344, 'user': 'HinduKshatrana', 'userid': 36213092, 'timestamp': '2021-07-29T08:36:19Z', 'size': 5281, 'tags': ['mw-undo', 'twinkle']}, {'revid': 1036065344, 'parentid': 1035947679, 'user': '2409:4053:2C99:DA05:0:0:740A:EB06', 'anon': '', 'userid': 0, 'timestamp': '2021-07-29T08:24:38Z', 'size': 5318, 'tags': ['mobile edit', 'mobile web edit', 'mw-reverted']}, {'revid': 1035947679, 'parentid': 1035913852, 'user': 'HinduKshatrana', 'userid': 36213092, 'timestamp': '2021-07-28T15:49:30Z', 'size': 5281, 'tags': ['mw-undo', 'twinkle']}, {'revid': 1035913852, 'parentid': 1035537998, 'user': '2409:4052:2E0F:5FB8:0:0:400B:AE0C', 'anon': '', 'userid': 0, 'timestamp': '2021-07-28T11:23:15Z', 'size': 5205, 'tags': ['mobile edit', 'mobile web edit', 'visualeditor', 'mw-reverted']}, {'revid': 1035537998, 'parentid': 1032758021, 'user': '106.213.141.90', 'anon': '', 'userid': 0, 'timestamp': '2021-07-26T07:25:53Z', 'size': 5270, 'tags': ['mobile edit', 'mobile web edit', 'mw-reverted']}, {'revid': 1032758021, 'parentid': 1032757623, 'user': 'Jerm', 'userid': 21767729, 'timestamp': '2021-07-09T13:36:17Z', 'size': 5281, 'tags': ['mw-undo']}, {'revid': 1032757623, 'parentid': 1030169228, 'user': '2402:3A80:1A51:7FDC:0:0:53DF:97DE', 'anon': '', 'userid': 0, 'timestamp': '2021-07-09T13:32:48Z', 'size': 3553, 'tags': ['mobile edit', 'mobile web edit', 'visualeditor', 'references removed', 'mw-reverted']}, {'revid': 1030169228, 'parentid': 1030164999, 'minor': '', 'user': 'Materialscientist', 'userid': 7852030, 'timestamp': '2021-06-24T08:44:47Z', 'size': 5281, 'tags': ['mw-rollback']}, {'revid': 1030164999, 'parentid': 1030164624, 'minor': '', 'user': 'Thakurwaadi', 'userid': 42061133, 'timestamp': '2021-06-24T07:56:32Z', 'size': 4376, 'tags': ['mobile edit', 'mobile web edit', 'visualeditor', 'references removed', 'mw-reverted']}, {'revid': 1030164624, 'parentid': 1030163933, 'user': '245CMR', 'userid': 39680757, 'timestamp': '2021-06-24T07:52:07Z', 'size': 5281, 'tags': ['mw-undo', 'mobile edit', 'mobile web edit', 'advanced mobile edit']}]}}}}\n"
     ]
    }
   ],
   "source": [
    "import requests\n",
    "from datetime import datetime,timezone\n",
    "from dateutil.relativedelta import relativedelta\n",
    "\n",
    "api_url = 'https://en.wikipedia.org/w/api.php'\n",
    "headers = {'User-Agent': 'Personal script for querying wikipedia API, owner_name: Shijith, email_id: shijithpk@gmail.com'}\n",
    "\n",
    "page_id = \"5348944\" #\"Yaduvanshi\"\n",
    "# page_id = \"66253797\" #\"Yadu (legendary king)\" the page id that we're redirected to\n",
    "\n",
    "utc_time_now = datetime.now(timezone.utc)\n",
    "utc_time_now_string = utc_time_now.replace(microsecond=0).replace(tzinfo=None).isoformat() + 'Z'\n",
    "\n",
    "time_one_year_ago = utc_time_now - relativedelta(years=1)\n",
    "time_one_year_ago_string = time_one_year_ago.replace(microsecond=0).replace(tzinfo=None).isoformat() + 'Z'\n",
    "\n",
    "params = {\n",
    "\t\t'action':   'query',\n",
    "\t\t'format':   'json',\n",
    "\t\t'prop':     'revisions',\n",
    "\t\t'pageids':  page_id,\n",
    "\t\t'redirects':'',\n",
    "\t\t'rvlimit':  50,\n",
    "\t\t'rvdir':    'older',\n",
    "\t\t'rvstart':  utc_time_now_string,\n",
    "\t\t'rvend':    time_one_year_ago_string,\n",
    "\t\t'rvprop':   'ids|flags|timestamp|user|userid|size|tags' #should I leave comment/parsedcomment out?\n",
    "\t\t}\n",
    "\n",
    "response = requests.get(api_url, headers=headers, params=params)\n",
    "data = response.json()\n",
    "print(data)"
   ]
  },
  {
   "cell_type": "code",
   "execution_count": 11,
   "metadata": {},
   "outputs": [
    {
     "name": "stdout",
     "output_type": "stream",
     "text": [
      "[0.5, 1.0, 2.0, 4.0, 8.0, 16.0, 32.0, 64.0, 128.0, 256.0, 512.0, 1024.0, 2048.0, 4096.0, 8192.0, 16384.0, 32768.0, 65536.0, 131072.0, 262144.0]\n",
      "[1, 2, 4, 8, 16, 32, 64, 128, 256, 512, 1024, 2048, 4096, 8192, 16384, 32768, 65536, 131072, 262144, 524288]\n",
      "[1.5, 3.0, 6.0, 12.0, 24.0, 48.0, 96.0, 192.0, 384.0, 768.0, 1536.0, 3072.0, 6144.0, 12288.0, 24576.0, 49152.0, 98304.0, 196608.0, 393216.0, 786432.0]\n",
      "[2, 4, 8, 16, 32, 64, 128, 256, 512, 1024, 2048, 4096, 8192, 16384, 32768, 65536, 131072, 262144, 524288, 1048576]\n",
      "[2.5, 5.0, 10.0, 20.0, 40.0, 80.0, 160.0, 320.0, 640.0, 1280.0, 2560.0, 5120.0, 10240.0, 20480.0, 40960.0, 81920.0, 163840.0, 327680.0, 655360.0, 1310720.0]\n",
      "[3, 6, 12, 24, 48, 96, 192, 384, 768, 1536, 3072, 6144, 12288, 24576, 49152, 98304, 196608, 393216, 786432, 1572864]\n"
     ]
    }
   ],
   "source": [
    "\n",
    "# {backoff factor} * (2 ** ({number of total retries} - 1))\n",
    "\n",
    "backoff_factor_list = [0.5, 1, 1.5, 2, 2.5, 3]\n",
    "for backoff_factor in backoff_factor_list:\n",
    "\tnumber_of_total_retries = 1\n",
    "\tseconds_delay_list = []\n",
    "\twhile number_of_total_retries <= 20:\n",
    "\t\tseconds_delay = backoff_factor * (2 ** (number_of_total_retries - 1))\n",
    "\t\tseconds_delay_list.append(seconds_delay)\n",
    "\t\tnumber_of_total_retries += 1\t\n",
    "\tprint(seconds_delay_list)"
   ]
  },
  {
   "cell_type": "code",
   "execution_count": 7,
   "metadata": {},
   "outputs": [
    {
     "name": "stdout",
     "output_type": "stream",
     "text": [
      "0.7\n"
     ]
    }
   ],
   "source": [
    "import random\n",
    "x = round(random.uniform(0.3,0.7),1)\n",
    "print(x)"
   ]
  },
  {
   "cell_type": "code",
   "execution_count": 8,
   "metadata": {},
   "outputs": [
    {
     "data": {
      "text/plain": [
       "'Yadu (legendary king)'"
      ]
     },
     "execution_count": 8,
     "metadata": {},
     "output_type": "execute_result"
    }
   ],
   "source": [
    "data['query']['pages'][list(data['query']['pages'].keys())[0]]['title']"
   ]
  },
  {
   "cell_type": "code",
   "execution_count": 8,
   "metadata": {},
   "outputs": [
    {
     "name": "stdout",
     "output_type": "stream",
     "text": [
      "2021-05-17 00:00:00\n"
     ]
    }
   ],
   "source": [
    "from datetime import datetime,timezone\n",
    "from dateutil.relativedelta import relativedelta\n",
    "from dateutil import parser\n",
    "\n",
    "x = datetime(2021, 5, 17, 0, 0, 0)\n",
    "\n",
    "print(x)"
   ]
  },
  {
   "cell_type": "code",
   "execution_count": 1,
   "metadata": {},
   "outputs": [
    {
     "data": {
      "text/plain": [
       "['page_id',\n",
       " 'page_title',\n",
       " 'number of users reverted in past year',\n",
       " 'number of users reverted in past 6 months',\n",
       " 'number of users reverted in past 3 months',\n",
       " 'number of users reverted in past 1 month',\n",
       " 'number of users reverted in past 4 weeks',\n",
       " 'number of users reverted in past 2 weeks',\n",
       " 'number of users reverted in past 1 week']"
      ]
     },
     "execution_count": 1,
     "metadata": {},
     "output_type": "execute_result"
    }
   ],
   "source": [
    "fields_of_interest = [\t\t\n",
    "\t\t'number of users reverted in past year',\n",
    "\t\t'number of users reverted in past 6 months',\n",
    "\t\t'number of users reverted in past 3 months',\n",
    "\t\t'number of users reverted in past 1 month',\n",
    "\t\t'number of users reverted in past 4 weeks',\n",
    "\t\t'number of users reverted in past 2 weeks',\n",
    "\t\t'number of users reverted in past 1 week',\n",
    "]\n",
    "\n",
    "# merged_df = pd.DataFrame(columns=[\"firstname\", \"lastname\"])\n",
    "merged_df_columns = ['page_id', 'page_title'] + fields_of_interest\n",
    "merged_df_columns"
   ]
  },
  {
   "cell_type": "code",
   "execution_count": 7,
   "metadata": {},
   "outputs": [
    {
     "data": {
      "text/plain": [
       "'2021-11-01'"
      ]
     },
     "execution_count": 7,
     "metadata": {},
     "output_type": "execute_result"
    }
   ],
   "source": [
    "from datetime import datetime,timezone\n",
    "x = datetime(2021,11,1,0,0,0)\n",
    "x.strftime('%Y-%m-%d')"
   ]
  },
  {
   "cell_type": "code",
   "execution_count": 8,
   "metadata": {},
   "outputs": [
    {
     "data": {
      "text/plain": [
       "'2021-12-02'"
      ]
     },
     "execution_count": 8,
     "metadata": {},
     "output_type": "execute_result"
    }
   ],
   "source": [
    "utc_time_now = datetime.now(timezone.utc)\n",
    "utc_time_now.strftime('%Y-%m-%d')"
   ]
  },
  {
   "cell_type": "code",
   "execution_count": 9,
   "metadata": {},
   "outputs": [
    {
     "name": "stdout",
     "output_type": "stream",
     "text": [
      "   Courses    Fee Duration  Discount\n",
      "r1   Spark  20000   30days      1000\n",
      "r2  Hadoop  25000   35days      2300\n",
      "r3  pandas  26000   40days      1500\n",
      "r4  Oracle  22000   50days      1200\n",
      "r0    Java  20000   60days      2500\n"
     ]
    }
   ],
   "source": [
    "\n",
    "import pandas as pd\n",
    "technologies = ({\n",
    "    'Courses':[\"Spark\",\"Hadoop\",\"pandas\",\"Oracle\",\"Java\"],\n",
    "    'Fee' :[20000,25000,26000,22000,20000],\n",
    "    'Duration':['30days','35days','40days','50days','60days'],\n",
    "    'Discount':[1000,2300,1500,1200,2500]\n",
    "               })\n",
    "df = pd.DataFrame(technologies, index = ['r1','r2','r3','r4','r0'])\n",
    "print(df)\n"
   ]
  },
  {
   "cell_type": "code",
   "execution_count": 11,
   "metadata": {},
   "outputs": [
    {
     "name": "stdout",
     "output_type": "stream",
     "text": [
      "   Courses    Fee Duration  Discount\n",
      "r1   Spark  20000   30days      1000\n",
      "r0    Java  20000   60days      2500\n",
      "r4  Oracle  22000   50days      1200\n",
      "r2  Hadoop  25000   35days      2300\n",
      "r3  pandas  26000   40days      1500\n"
     ]
    }
   ],
   "source": [
    "\n",
    "# Sort ascending order\n",
    "dogs.sort_values([\"weight_kg\", \"height_cm\"], ascending=[True, False])\n",
    "df.sort_values(by=['Fee','Discount'], inplace=True)\n",
    "print(df)\n"
   ]
  },
  {
   "cell_type": "code",
   "execution_count": null,
   "metadata": {},
   "outputs": [],
   "source": []
  },
  {
   "cell_type": "code",
   "execution_count": null,
   "metadata": {},
   "outputs": [],
   "source": []
  },
  {
   "cell_type": "code",
   "execution_count": null,
   "metadata": {},
   "outputs": [],
   "source": []
  },
  {
   "cell_type": "code",
   "execution_count": null,
   "metadata": {},
   "outputs": [],
   "source": []
  }
 ],
 "metadata": {
  "interpreter": {
   "hash": "31f2aee4e71d21fbe5cf8b01ff0e069b9275f58929596ceb00d14d90e3e16cd6"
  },
  "kernelspec": {
   "display_name": "Python 3.8.10 64-bit",
   "language": "python",
   "name": "python3"
  },
  "language_info": {
   "codemirror_mode": {
    "name": "ipython",
    "version": 3
   },
   "file_extension": ".py",
   "mimetype": "text/x-python",
   "name": "python",
   "nbconvert_exporter": "python",
   "pygments_lexer": "ipython3",
   "version": "3.8.10"
  },
  "orig_nbformat": 4
 },
 "nbformat": 4,
 "nbformat_minor": 2
}
